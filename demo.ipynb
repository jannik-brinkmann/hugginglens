{
 "cells": [
  {
   "cell_type": "code",
   "execution_count": 1,
   "metadata": {},
   "outputs": [
    {
     "name": "stderr",
     "output_type": "stream",
     "text": [
      "/Library/Frameworks/Python.framework/Versions/3.11/lib/python3.11/site-packages/datasets/load.py:2103: FutureWarning: 'task' was deprecated in version 2.13.0 and will be removed in 3.0.0.\n",
      "\n",
      "  warnings.warn(\n"
     ]
    },
    {
     "data": {
      "text/plain": [
       "dict_keys(['embeddings', 'encoder.0.ln1', 'encoder.0.attn.q', 'encoder.0.attn.k', 'encoder.0.attn.v', 'encoder.0.ln2', 'encoder.0.intermediate', 'encoder.1.ln1', 'encoder.1.attn.q', 'encoder.1.attn.k', 'encoder.1.attn.v', 'encoder.1.ln2', 'encoder.1.intermediate', 'encoder.2.ln1', 'encoder.2.attn.q', 'encoder.2.attn.k', 'encoder.2.attn.v', 'encoder.2.ln2', 'encoder.2.intermediate', 'encoder.3.ln1', 'encoder.3.attn.q', 'encoder.3.attn.k', 'encoder.3.attn.v', 'encoder.3.ln2', 'encoder.3.intermediate', 'encoder.4.ln1', 'encoder.4.attn.q', 'encoder.4.attn.k', 'encoder.4.attn.v', 'encoder.4.ln2', 'encoder.4.intermediate', 'encoder.5.ln1', 'encoder.5.attn.q', 'encoder.5.attn.k', 'encoder.5.attn.v', 'encoder.5.ln2', 'encoder.5.intermediate', 'encoder.6.ln1', 'encoder.6.attn.q', 'encoder.6.attn.k', 'encoder.6.attn.v', 'encoder.6.ln2', 'encoder.6.intermediate', 'encoder.7.ln1', 'encoder.7.attn.q', 'encoder.7.attn.k', 'encoder.7.attn.v', 'encoder.7.ln2', 'encoder.7.intermediate', 'encoder.8.ln1', 'encoder.8.attn.q', 'encoder.8.attn.k', 'encoder.8.attn.v', 'encoder.8.ln2', 'encoder.8.intermediate', 'encoder.9.ln1', 'encoder.9.attn.q', 'encoder.9.attn.k', 'encoder.9.attn.v', 'encoder.9.ln2', 'encoder.9.intermediate', 'encoder.10.ln1', 'encoder.10.attn.q', 'encoder.10.attn.k', 'encoder.10.attn.v', 'encoder.10.ln2', 'encoder.10.intermediate', 'encoder.11.ln1', 'encoder.11.attn.q', 'encoder.11.attn.k', 'encoder.11.attn.v', 'encoder.11.ln2', 'encoder.11.intermediate', 'ln'])"
      ]
     },
     "execution_count": 1,
     "metadata": {},
     "output_type": "execute_result"
    }
   ],
   "source": [
    "import argparse \n",
    "import torch\n",
    "\n",
    "from datasets import load_dataset\n",
    "from transformers import AutoImageProcessor\n",
    "\n",
    "from lens import HookedVisionTransformer, plot_heatmaps\n",
    "\n",
    "device = torch.device('cuda' if torch.cuda.is_available() else 'cpu')\n",
    "\n",
    "model_name_or_path = \"google/vit-base-patch16-224\"\n",
    "model = HookedVisionTransformer.from_pretrained(model_name_or_path, device)\n",
    "image_processor = AutoImageProcessor.from_pretrained(model_name_or_path)\n",
    "dataset = load_dataset(\n",
    "    \"cifar10\",\n",
    "    cache_dir=\"./../cache\",\n",
    "    task=\"image-classification\"\n",
    ")\n",
    "\n",
    "with torch.no_grad():\n",
    "    features = image_processor(dataset['test']['image'][0], return_tensors=\"pt\")\n",
    "    features.to(device)\n",
    "    outputs, cache = model.run_with_cache(**features)\n",
    "cache.keys()"
   ]
  },
  {
   "cell_type": "code",
   "execution_count": null,
   "metadata": {},
   "outputs": [],
   "source": [
    "if __name__ == \"__main__\":\n",
    "\n",
    "    parser = argparse.ArgumentParser()\n",
    "    parser.add_argument(\n",
    "        '--model_name_or_path',\n",
    "        type=str, \n",
    "        default='google/vit-base-patch16-224', \n",
    "        help='model name from HuggingFace hub'\n",
    "    )\n",
    "    args = parser.parse_args()\n",
    "\n",
    "    main(args)"
   ]
  }
 ],
 "metadata": {
  "kernelspec": {
   "display_name": "Python 3.11.5 64-bit",
   "language": "python",
   "name": "python3"
  },
  "language_info": {
   "codemirror_mode": {
    "name": "ipython",
    "version": 3
   },
   "file_extension": ".py",
   "mimetype": "text/x-python",
   "name": "python",
   "nbconvert_exporter": "python",
   "pygments_lexer": "ipython3",
   "version": "3.11.5"
  },
  "orig_nbformat": 4,
  "vscode": {
   "interpreter": {
    "hash": "aee8b7b246df8f9039afb4144a1f6fd8d2ca17a180786b69acc140d282b71a49"
   }
  }
 },
 "nbformat": 4,
 "nbformat_minor": 2
}
